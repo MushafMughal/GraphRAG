{
 "cells": [
  {
   "cell_type": "code",
   "execution_count": 1,
   "id": "fbd1abcf",
   "metadata": {},
   "outputs": [
    {
     "name": "stdout",
     "output_type": "stream",
     "text": [
      "Successfully connected to Neo4j.\n"
     ]
    }
   ],
   "source": [
    "import json\n",
    "# from langchain_community.graphs import Neo4jGraph\n",
    "from langchain_neo4j import Neo4jGraph\n",
    "\n",
    "# --- Connection Details ---\n",
    "# Replace with your Neo4j database details\n",
    "NEO4J_URL = \"bolt://127.0.0.1:7687\" # Default URL for local Neo4j\n",
    "NEO4J_USERNAME = \"neo4j\"\n",
    "NEO4J_PASSWORD = \"12345678\" # The password you set in Step 1\n",
    "NEO4J_DATABASE = \"callsanalytics\" # The database name you created\n",
    "\n",
    "# Initialize the connection to Neo4j\n",
    "try:\n",
    "    graph = Neo4jGraph(\n",
    "        url=NEO4J_URL,\n",
    "        username=NEO4J_USERNAME,\n",
    "        password=NEO4J_PASSWORD,\n",
    "        database=NEO4J_DATABASE\n",
    "    )\n",
    "    print(\"Successfully connected to Neo4j.\")\n",
    "except Exception as e:\n",
    "    print(f\"Failed to connect to Neo4j: {e}\")\n",
    "    exit()"
   ]
  },
  {
   "cell_type": "code",
   "execution_count": 10,
   "id": "05a555b1",
   "metadata": {},
   "outputs": [],
   "source": [
    "def prepare_entities_for_ingestion(entities: list) -> list:\n",
    "    prepared_entities = []\n",
    "    for entity in entities:\n",
    "        new_entity = entity.copy()\n",
    "        if 'contact_details' in new_entity and isinstance(new_entity['contact_details'], dict):\n",
    "            contact_details = new_entity.pop('contact_details')\n",
    "            for key, value in contact_details.items():\n",
    "                new_entity[key] = value\n",
    "        prepared_entities.append(new_entity)\n",
    "    return prepared_entities\n",
    "\n",
    "# --- UPGRADED INGESTION LOGIC ---\n",
    "def ingest_call_data(call_data: dict):\n",
    "    # 1. Ingest Entities (Nodes) - No changes here\n",
    "    entities_query = \"\"\"\n",
    "    UNWIND $entities AS entity\n",
    "    MERGE (n {name: entity.name})\n",
    "    SET n += entity, n:Person, n:Entity\n",
    "    \"\"\"\n",
    "    prepared_entities = prepare_entities_for_ingestion(call_data['entities'])\n",
    "    graph.query(entities_query, params={'entities': prepared_entities})\n",
    "    print(f\"Ingested {len(prepared_entities)} entities.\")\n",
    "\n",
    "    # 2. Ingest Static Relationships (e.g., WORKS_FOR) - No changes here\n",
    "    for rel in call_data['relationships']:\n",
    "        rel_type = \"\".join(c for c in rel['type'] if c.isalnum() or c == '_').upper()\n",
    "        if not rel_type: continue\n",
    "        safe_relationships_query = f\"\"\"\n",
    "        MATCH (source {{name: $source_name}})\n",
    "        MATCH (target {{name: $target_name}})\n",
    "        MERGE (source)-[r:{rel_type}]->(target)\n",
    "        \"\"\"\n",
    "        graph.query(safe_relationships_query, params={\n",
    "            'source_name': rel['source'],\n",
    "            'target_name': rel['target']\n",
    "        })\n",
    "    print(f\"Ingested {len(call_data['relationships'])} static relationships.\")\n",
    "\n",
    "    # 3. Create the Central Call Node\n",
    "    call_node_query = \"\"\"\n",
    "    // MERGE helps prevent creating duplicate Call nodes if script is run multiple times\n",
    "    MERGE (c:Call {call_id: $call_id}) \n",
    "    SET c += $summary\n",
    "    WITH c\n",
    "    UNWIND $participants AS participant_name\n",
    "    MATCH (p {name: participant_name})\n",
    "    MERGE (p)-[:PARTICIPATED_IN]->(c)\n",
    "    RETURN id(c) AS call_node_id\n",
    "    \"\"\"\n",
    "    # Create a unique ID for the call to prevent duplicates\n",
    "    # A simple way is to hash the content or use a timestamp + agent name\n",
    "    import hashlib\n",
    "    call_id = hashlib.sha256(json.dumps(call_data).encode()).hexdigest()\n",
    "    \n",
    "    participant_names = [entity['name'] for entity in call_data['entities']]\n",
    "    result = graph.query(call_node_query, params={\n",
    "        'call_id': call_id,\n",
    "        'summary': call_data['call_summary'],\n",
    "        'participants': participant_names\n",
    "    })\n",
    "    call_node_id = result[0]['call_node_id']\n",
    "    print(f\"Created/updated Call node with ID: {call_id}\")\n",
    "\n",
    "    # 4. **NEW**: Ingest Events as their own Nodes and create dynamic relationships\n",
    "    for event in call_data['events']:\n",
    "        event_type = event.get('type')\n",
    "        speaker_name = event.get('speaker_name')\n",
    "        \n",
    "        # We only want to create event nodes for the customer's actions\n",
    "        if not speaker_name or event.get('speaker_role') == 'Agent':\n",
    "            continue\n",
    "\n",
    "        # Create a unique text for the event node to merge on\n",
    "        event_text = event.get('text', '')\n",
    "        \n",
    "        # Map our event types to Graph relationship types\n",
    "        # This makes our graph model explicit and clean\n",
    "        relationship_map = {\n",
    "            \"OBJECTION\": \"HAD_OBJECTION\",\n",
    "            \"PAIN_POINT\": \"MENTIONED_PAIN_POINT\",\n",
    "            \"BUYING_SIGNAL\": \"SHOWED_BUYING_SIGNAL\"\n",
    "        }\n",
    "\n",
    "        rel_type = relationship_map.get(event_type)\n",
    "\n",
    "        # If the event is one we want to model explicitly in the graph\n",
    "        if rel_type:\n",
    "            event_node_query = f\"\"\"\n",
    "            // Find the Call node we just created\n",
    "            MATCH (c:Call) WHERE id(c) = $call_node_id\n",
    "            // Find the person who spoke\n",
    "            MATCH (p:Person {{name: $speaker_name}})\n",
    "            // Create a node for the event itself\n",
    "            MERGE (e:{event_type} {{text: $event_text}})\n",
    "            // Connect the person to the event, and the event to the call\n",
    "            MERGE (p)-[r1:{rel_type}]->(e)\n",
    "            MERGE (e)-[r2:OCCURRED_IN_CALL]->(c)\n",
    "            \"\"\"\n",
    "            graph.query(event_node_query, params={\n",
    "                \"call_node_id\": call_node_id,\n",
    "                \"speaker_name\": speaker_name,\n",
    "                \"event_text\": event_text\n",
    "            })\n",
    "    print(\"Ingested key events as distinct nodes and relationships.\")"
   ]
  },
  {
   "cell_type": "markdown",
   "id": "b57ce5ff",
   "metadata": {},
   "source": [
    "loop insert (altogether)"
   ]
  },
  {
   "cell_type": "code",
   "execution_count": 12,
   "id": "5fa29301",
   "metadata": {},
   "outputs": [
    {
     "name": "stdout",
     "output_type": "stream",
     "text": [
      "Clearing existing graph for a fresh start...\n",
      "\n",
      "--- Ingesting updated_entities_relations_call1.json ---\n",
      "Ingested 3 entities.\n",
      "Ingested 3 static relationships.\n"
     ]
    },
    {
     "name": "stderr",
     "output_type": "stream",
     "text": [
      "Received notification from DBMS server: {severity: WARNING} {code: Neo.ClientNotification.Statement.FeatureDeprecationWarning} {category: DEPRECATION} {title: This feature is deprecated and will be removed in future versions.} {description: The query used a deprecated function. ('id' has been replaced by 'elementId or consider using an application-generated id')} {position: line: 9, column: 12, offset: 296} for query: '\\n    // MERGE helps prevent creating duplicate Call nodes if script is run multiple times\\n    MERGE (c:Call {call_id: $call_id}) \\n    SET c += $summary\\n    WITH c\\n    UNWIND $participants AS participant_name\\n    MATCH (p {name: participant_name})\\n    MERGE (p)-[:PARTICIPATED_IN]->(c)\\n    RETURN id(c) AS call_node_id\\n    '\n"
     ]
    },
    {
     "name": "stdout",
     "output_type": "stream",
     "text": [
      "Created/updated Call node with ID: 7cabae53a8f8ce0dd163817f4e5c2284e7b5c82ee4b136321e1d6b7c3d9354ca\n"
     ]
    },
    {
     "name": "stderr",
     "output_type": "stream",
     "text": [
      "Received notification from DBMS server: {severity: WARNING} {code: Neo.ClientNotification.Statement.FeatureDeprecationWarning} {category: DEPRECATION} {title: This feature is deprecated and will be removed in future versions.} {description: The query used a deprecated function. ('id' has been replaced by 'elementId or consider using an application-generated id')} {position: line: 3, column: 34, offset: 84} for query: '\\n            // Find the Call node we just created\\n            MATCH (c:Call) WHERE id(c) = $call_node_id\\n            // Find the person who spoke\\n            MATCH (p:Person {name: $speaker_name})\\n            // Create a node for the event itself\\n            MERGE (e:BUYING_SIGNAL {text: $event_text})\\n            // Connect the person to the event, and the event to the call\\n            MERGE (p)-[r1:SHOWED_BUYING_SIGNAL]->(e)\\n            MERGE (e)-[r2:OCCURRED_IN_CALL]->(c)\\n            '\n",
      "Received notification from DBMS server: {severity: WARNING} {code: Neo.ClientNotification.Statement.FeatureDeprecationWarning} {category: DEPRECATION} {title: This feature is deprecated and will be removed in future versions.} {description: The query used a deprecated function. ('id' has been replaced by 'elementId or consider using an application-generated id')} {position: line: 9, column: 12, offset: 296} for query: '\\n    // MERGE helps prevent creating duplicate Call nodes if script is run multiple times\\n    MERGE (c:Call {call_id: $call_id}) \\n    SET c += $summary\\n    WITH c\\n    UNWIND $participants AS participant_name\\n    MATCH (p {name: participant_name})\\n    MERGE (p)-[:PARTICIPATED_IN]->(c)\\n    RETURN id(c) AS call_node_id\\n    '\n"
     ]
    },
    {
     "name": "stdout",
     "output_type": "stream",
     "text": [
      "Ingested key events as distinct nodes and relationships.\n",
      "\n",
      "--- Ingesting updated_entities_relations_call2.json ---\n",
      "Ingested 3 entities.\n",
      "Ingested 3 static relationships.\n",
      "Created/updated Call node with ID: 7f6bf3284fdce0e77ace268cee73e054b6ca8ca7174aba9c2d19f533cde11538\n"
     ]
    },
    {
     "name": "stderr",
     "output_type": "stream",
     "text": [
      "Received notification from DBMS server: {severity: WARNING} {code: Neo.ClientNotification.Statement.FeatureDeprecationWarning} {category: DEPRECATION} {title: This feature is deprecated and will be removed in future versions.} {description: The query used a deprecated function. ('id' has been replaced by 'elementId or consider using an application-generated id')} {position: line: 3, column: 34, offset: 84} for query: '\\n            // Find the Call node we just created\\n            MATCH (c:Call) WHERE id(c) = $call_node_id\\n            // Find the person who spoke\\n            MATCH (p:Person {name: $speaker_name})\\n            // Create a node for the event itself\\n            MERGE (e:OBJECTION {text: $event_text})\\n            // Connect the person to the event, and the event to the call\\n            MERGE (p)-[r1:HAD_OBJECTION]->(e)\\n            MERGE (e)-[r2:OCCURRED_IN_CALL]->(c)\\n            '\n",
      "Received notification from DBMS server: {severity: WARNING} {code: Neo.ClientNotification.Statement.FeatureDeprecationWarning} {category: DEPRECATION} {title: This feature is deprecated and will be removed in future versions.} {description: The query used a deprecated function. ('id' has been replaced by 'elementId or consider using an application-generated id')} {position: line: 3, column: 34, offset: 84} for query: '\\n            // Find the Call node we just created\\n            MATCH (c:Call) WHERE id(c) = $call_node_id\\n            // Find the person who spoke\\n            MATCH (p:Person {name: $speaker_name})\\n            // Create a node for the event itself\\n            MERGE (e:BUYING_SIGNAL {text: $event_text})\\n            // Connect the person to the event, and the event to the call\\n            MERGE (p)-[r1:SHOWED_BUYING_SIGNAL]->(e)\\n            MERGE (e)-[r2:OCCURRED_IN_CALL]->(c)\\n            '\n",
      "Received notification from DBMS server: {severity: WARNING} {code: Neo.ClientNotification.Statement.FeatureDeprecationWarning} {category: DEPRECATION} {title: This feature is deprecated and will be removed in future versions.} {description: The query used a deprecated function. ('id' has been replaced by 'elementId or consider using an application-generated id')} {position: line: 3, column: 34, offset: 84} for query: '\\n            // Find the Call node we just created\\n            MATCH (c:Call) WHERE id(c) = $call_node_id\\n            // Find the person who spoke\\n            MATCH (p:Person {name: $speaker_name})\\n            // Create a node for the event itself\\n            MERGE (e:PAIN_POINT {text: $event_text})\\n            // Connect the person to the event, and the event to the call\\n            MERGE (p)-[r1:MENTIONED_PAIN_POINT]->(e)\\n            MERGE (e)-[r2:OCCURRED_IN_CALL]->(c)\\n            '\n",
      "Received notification from DBMS server: {severity: WARNING} {code: Neo.ClientNotification.Statement.FeatureDeprecationWarning} {category: DEPRECATION} {title: This feature is deprecated and will be removed in future versions.} {description: The query used a deprecated function. ('id' has been replaced by 'elementId or consider using an application-generated id')} {position: line: 3, column: 34, offset: 84} for query: '\\n            // Find the Call node we just created\\n            MATCH (c:Call) WHERE id(c) = $call_node_id\\n            // Find the person who spoke\\n            MATCH (p:Person {name: $speaker_name})\\n            // Create a node for the event itself\\n            MERGE (e:BUYING_SIGNAL {text: $event_text})\\n            // Connect the person to the event, and the event to the call\\n            MERGE (p)-[r1:SHOWED_BUYING_SIGNAL]->(e)\\n            MERGE (e)-[r2:OCCURRED_IN_CALL]->(c)\\n            '\n",
      "Received notification from DBMS server: {severity: WARNING} {code: Neo.ClientNotification.Statement.FeatureDeprecationWarning} {category: DEPRECATION} {title: This feature is deprecated and will be removed in future versions.} {description: The query used a deprecated function. ('id' has been replaced by 'elementId or consider using an application-generated id')} {position: line: 9, column: 12, offset: 296} for query: '\\n    // MERGE helps prevent creating duplicate Call nodes if script is run multiple times\\n    MERGE (c:Call {call_id: $call_id}) \\n    SET c += $summary\\n    WITH c\\n    UNWIND $participants AS participant_name\\n    MATCH (p {name: participant_name})\\n    MERGE (p)-[:PARTICIPATED_IN]->(c)\\n    RETURN id(c) AS call_node_id\\n    '\n",
      "Received notification from DBMS server: {severity: WARNING} {code: Neo.ClientNotification.Statement.FeatureDeprecationWarning} {category: DEPRECATION} {title: This feature is deprecated and will be removed in future versions.} {description: The query used a deprecated function. ('id' has been replaced by 'elementId or consider using an application-generated id')} {position: line: 3, column: 34, offset: 84} for query: '\\n            // Find the Call node we just created\\n            MATCH (c:Call) WHERE id(c) = $call_node_id\\n            // Find the person who spoke\\n            MATCH (p:Person {name: $speaker_name})\\n            // Create a node for the event itself\\n            MERGE (e:BUYING_SIGNAL {text: $event_text})\\n            // Connect the person to the event, and the event to the call\\n            MERGE (p)-[r1:SHOWED_BUYING_SIGNAL]->(e)\\n            MERGE (e)-[r2:OCCURRED_IN_CALL]->(c)\\n            '\n"
     ]
    },
    {
     "name": "stdout",
     "output_type": "stream",
     "text": [
      "Ingested key events as distinct nodes and relationships.\n",
      "\n",
      "--- Ingesting updated_entities_relations_call3.json ---\n",
      "Ingested 3 entities.\n",
      "Ingested 3 static relationships.\n",
      "Created/updated Call node with ID: 6b40fb3fcb86415428b9a845737671a142b0b955099ddca4aa55be206fbf8814\n",
      "Ingested key events as distinct nodes and relationships.\n",
      "\n",
      "--- Ingesting updated_entities_relations_call4.json ---\n",
      "Ingested 2 entities.\n",
      "Ingested 1 static relationships.\n"
     ]
    },
    {
     "name": "stderr",
     "output_type": "stream",
     "text": [
      "Received notification from DBMS server: {severity: WARNING} {code: Neo.ClientNotification.Statement.FeatureDeprecationWarning} {category: DEPRECATION} {title: This feature is deprecated and will be removed in future versions.} {description: The query used a deprecated function. ('id' has been replaced by 'elementId or consider using an application-generated id')} {position: line: 9, column: 12, offset: 296} for query: '\\n    // MERGE helps prevent creating duplicate Call nodes if script is run multiple times\\n    MERGE (c:Call {call_id: $call_id}) \\n    SET c += $summary\\n    WITH c\\n    UNWIND $participants AS participant_name\\n    MATCH (p {name: participant_name})\\n    MERGE (p)-[:PARTICIPATED_IN]->(c)\\n    RETURN id(c) AS call_node_id\\n    '\n",
      "Received notification from DBMS server: {severity: WARNING} {code: Neo.ClientNotification.Statement.FeatureDeprecationWarning} {category: DEPRECATION} {title: This feature is deprecated and will be removed in future versions.} {description: The query used a deprecated function. ('id' has been replaced by 'elementId or consider using an application-generated id')} {position: line: 3, column: 34, offset: 84} for query: '\\n            // Find the Call node we just created\\n            MATCH (c:Call) WHERE id(c) = $call_node_id\\n            // Find the person who spoke\\n            MATCH (p:Person {name: $speaker_name})\\n            // Create a node for the event itself\\n            MERGE (e:BUYING_SIGNAL {text: $event_text})\\n            // Connect the person to the event, and the event to the call\\n            MERGE (p)-[r1:SHOWED_BUYING_SIGNAL]->(e)\\n            MERGE (e)-[r2:OCCURRED_IN_CALL]->(c)\\n            '\n",
      "Received notification from DBMS server: {severity: WARNING} {code: Neo.ClientNotification.Statement.FeatureDeprecationWarning} {category: DEPRECATION} {title: This feature is deprecated and will be removed in future versions.} {description: The query used a deprecated function. ('id' has been replaced by 'elementId or consider using an application-generated id')} {position: line: 3, column: 34, offset: 84} for query: '\\n            // Find the Call node we just created\\n            MATCH (c:Call) WHERE id(c) = $call_node_id\\n            // Find the person who spoke\\n            MATCH (p:Person {name: $speaker_name})\\n            // Create a node for the event itself\\n            MERGE (e:PAIN_POINT {text: $event_text})\\n            // Connect the person to the event, and the event to the call\\n            MERGE (p)-[r1:MENTIONED_PAIN_POINT]->(e)\\n            MERGE (e)-[r2:OCCURRED_IN_CALL]->(c)\\n            '\n",
      "Received notification from DBMS server: {severity: WARNING} {code: Neo.ClientNotification.Statement.FeatureDeprecationWarning} {category: DEPRECATION} {title: This feature is deprecated and will be removed in future versions.} {description: The query used a deprecated function. ('id' has been replaced by 'elementId or consider using an application-generated id')} {position: line: 3, column: 34, offset: 84} for query: '\\n            // Find the Call node we just created\\n            MATCH (c:Call) WHERE id(c) = $call_node_id\\n            // Find the person who spoke\\n            MATCH (p:Person {name: $speaker_name})\\n            // Create a node for the event itself\\n            MERGE (e:OBJECTION {text: $event_text})\\n            // Connect the person to the event, and the event to the call\\n            MERGE (p)-[r1:HAD_OBJECTION]->(e)\\n            MERGE (e)-[r2:OCCURRED_IN_CALL]->(c)\\n            '\n",
      "Received notification from DBMS server: {severity: WARNING} {code: Neo.ClientNotification.Statement.FeatureDeprecationWarning} {category: DEPRECATION} {title: This feature is deprecated and will be removed in future versions.} {description: The query used a deprecated function. ('id' has been replaced by 'elementId or consider using an application-generated id')} {position: line: 3, column: 34, offset: 84} for query: '\\n            // Find the Call node we just created\\n            MATCH (c:Call) WHERE id(c) = $call_node_id\\n            // Find the person who spoke\\n            MATCH (p:Person {name: $speaker_name})\\n            // Create a node for the event itself\\n            MERGE (e:BUYING_SIGNAL {text: $event_text})\\n            // Connect the person to the event, and the event to the call\\n            MERGE (p)-[r1:SHOWED_BUYING_SIGNAL]->(e)\\n            MERGE (e)-[r2:OCCURRED_IN_CALL]->(c)\\n            '\n"
     ]
    },
    {
     "name": "stdout",
     "output_type": "stream",
     "text": [
      "Created/updated Call node with ID: 518bdbac28fc7bcfee0a434a1dec49d664685504212dc8750b9bc8c1b3a7a614\n",
      "Ingested key events as distinct nodes and relationships.\n",
      "\n",
      "--- Ingestion of all files complete ---\n",
      "Open Neo4j Browser and run 'MATCH (n) RETURN n' to see the nodes.\n",
      "Or run 'MATCH p = ()-[]->() RETURN p LIMIT 25' to see the graph structure.\n"
     ]
    }
   ],
   "source": [
    "files = ['updated_entities_relations_call1.json', 'updated_entities_relations_call2.json', 'updated_entities_relations_call3.json', 'updated_entities_relations_call4.json']\n",
    "\n",
    "print(\"Clearing existing graph for a fresh start...\")\n",
    "graph.query(\"MATCH (n) DETACH DELETE n\")\n",
    "\n",
    "for file_name in files:\n",
    "    try:\n",
    "        with open(file_name, 'r') as f:\n",
    "            print(f\"\\n--- Ingesting {file_name} ---\")\n",
    "            data = json.load(f)\n",
    "            ingest_call_data(data)\n",
    "    except FileNotFoundError:\n",
    "        print(f\"Error: {file_name} not found. Skipping.\")\n",
    "    except Exception as e:\n",
    "        print(f\"An error occurred with {file_name}: {e}\")\n",
    "\n",
    "print(\"\\n--- Ingestion of all files complete ---\")\n",
    "print(\"Open Neo4j Browser and run 'MATCH (n) RETURN n' to see the nodes.\")\n",
    "print(\"Or run 'MATCH p = ()-[]->() RETURN p LIMIT 25' to see the graph structure.\")"
   ]
  },
  {
   "cell_type": "markdown",
   "id": "7c2c954f",
   "metadata": {},
   "source": [
    "1 by 1 insert"
   ]
  },
  {
   "cell_type": "code",
   "execution_count": 11,
   "id": "57eee113",
   "metadata": {},
   "outputs": [
    {
     "name": "stdout",
     "output_type": "stream",
     "text": [
      "Clearing existing graph...\n"
     ]
    }
   ],
   "source": [
    "try:\n",
    "    with open('updated_entities_relations_call4.json', 'r') as f:\n",
    "        data = json.load(f)\n",
    "        \n",
    "    # Clear the entire graph before ingesting.\n",
    "    # This is useful for testing to ensure you start fresh each time.\n",
    "    # **COMMENT THIS OUT IN PRODUCTION** so you don't delete your data.\n",
    "    print(\"Clearing existing graph...\")\n",
    "    graph.query(\"MATCH (n) DETACH DELETE n\")\n",
    "\n",
    "    # Ingest the loaded data\n",
    "    ingest_call_data(data)\n",
    "    \n",
    "    print(\"\\n--- Ingestion Complete ---\")\n",
    "    print(\"Open Neo4j Browser to view your graph.\")\n",
    "    print(\"Run this Cypher query to see everything: MATCH (n) RETURN n\")\n",
    "\n",
    "except FileNotFoundError:\n",
    "    print(\"Error: 'output_call_1.json' not found. Make sure the JSON file is in the same directory.\")\n",
    "except Exception as e:\n",
    "    print(f\"An error occurred: {e}\")"
   ]
  },
  {
   "cell_type": "code",
   "execution_count": 1,
   "id": "58788082",
   "metadata": {},
   "outputs": [],
   "source": [
    "import json\n",
    "\n",
    "def score_extraction_quality(call_data: dict) -> dict:\n",
    "    \"\"\"\n",
    "    Scores the quality of the extracted JSON based on the client's rules.\n",
    "    This is a reliable, code-based approach to quality control.\n",
    "    \"\"\"\n",
    "    score = 0\n",
    "    penalties = 0\n",
    "    notes = []\n",
    "    \n",
    "    # Rule: Call summary with correct outcome (+15 points)\n",
    "    if call_data.get('call_summary', {}).get('outcome'):\n",
    "        score += 15\n",
    "    else:\n",
    "        notes.append(\"FAIL: Missing call_summary or outcome.\")\n",
    "\n",
    "    entities = call_data.get('entities', [])\n",
    "    entity_names = [e.get('name') for e in entities]\n",
    "    relationships = call_data.get('relationships', [])\n",
    "\n",
    "    # Rule: Gatekeeper presence (+20 points / -30 penalty)\n",
    "    is_gatekeeper_present = \"Unnamed Gatekeeper\" in entity_names\n",
    "    has_transfer_relationship = any(r.get('type') == 'TRANSFERRED_CALL_TO' for r in relationships)\n",
    "    \n",
    "    # We assume a transfer happened if a gatekeeper was needed\n",
    "    if is_gatekeeper_present:\n",
    "        score += 20\n",
    "        if not has_transfer_relationship:\n",
    "            penalties += -15 # Less severe penalty if relationship is just missing\n",
    "            notes.append(\"WARNING: Gatekeeper entity exists, but TRANSFERRED_CALL_TO relationship is missing.\")\n",
    "    # This is a heuristic: if we see a transfer rel but no gatekeeper, it's a major failure.\n",
    "    elif has_transfer_relationship and not is_gatekeeper_present:\n",
    "        penalties += -30\n",
    "        notes.append(\"CRITICAL FAIL: TRANSFERRED_CALL_TO exists, but Gatekeeper entity is missing.\")\n",
    "\n",
    "    # Rule: All other entities identified (+5 each)\n",
    "    score += len(entities) * 5\n",
    "\n",
    "    # Rule: Contact info captured (+10 points) / Missing (-10 penalty)\n",
    "    decision_maker = next((e for e in entities if e.get('subtype') == 'Decision Maker'), None)\n",
    "    if decision_maker and decision_maker.get('contact_details'):\n",
    "        score += 10\n",
    "    elif decision_maker: # if DM exists but has no contact details\n",
    "        penalties += -10\n",
    "        notes.append(\"FAIL: Decision Maker found, but contact_details are missing.\")\n",
    "\n",
    "    # Rule: Relationships mapped (+5 each)\n",
    "    score += len(relationships) * 5\n",
    "    \n",
    "    # Rule: Events categorized (points per type)\n",
    "    event_scores = {\"PAIN_POINT\": 7, \"BUYING_SIGNAL\": 8, \"OBJECTION\": 5, \"GATEKEEPER_INTERACTION\": 5, \"QUESTION\": 3, \"TECHNICAL_ISSUE\": 2, \"RAPPORT_BUILDING\": 2, \"GENERAL_EVENT\": 1, \"CONCERN\": 4, \"CLARIFICATION\": 4}\n",
    "    for event in call_data.get('events', []):\n",
    "        score += event_scores.get(event.get('type'), 0)\n",
    "\n",
    "    # Rule: Meeting details (+15 points / -15 penalty)\n",
    "    if call_data.get('scheduled_meeting'):\n",
    "        score += 15\n",
    "    elif call_data.get('call_summary', {}).get('outcome') == 'Meeting Scheduled':\n",
    "        penalties += -15\n",
    "        notes.append(\"CRITICAL FAIL: Outcome is 'Meeting Scheduled' but scheduled_meeting object is null.\")\n",
    "\n",
    "    final_score = score + penalties\n",
    "    \n",
    "    # Determine final status\n",
    "    if final_score >= 100:\n",
    "        status = \"High-confidence extraction\"\n",
    "    elif 80 <= final_score < 100:\n",
    "        status = \"Acceptable extraction, minor gaps\"\n",
    "    elif 60 <= final_score < 80:\n",
    "        status = \"Review recommended\"\n",
    "    else:\n",
    "        status = \"Manual review REQUIRED\"\n",
    "\n",
    "    return {\n",
    "        \"final_score\": final_score,\n",
    "        \"status\": status,\n",
    "        \"notes\": notes,\n",
    "        \"base_score\": score,\n",
    "        \"penalties\": penalties\n",
    "    }"
   ]
  },
  {
   "cell_type": "code",
   "execution_count": null,
   "id": "49f1e1b5",
   "metadata": {},
   "outputs": [],
   "source": [
    "files = ['updated_entities_relations_call1.json', 'updated_entities_relations_call2.json', 'updated_entities_relations_call3.json', 'updated_entities_relations_call4.json']"
   ]
  },
  {
   "cell_type": "code",
   "execution_count": null,
   "id": "0ceedfd1",
   "metadata": {},
   "outputs": [
    {
     "data": {
      "text/plain": [
       "{'final_score': 118,\n",
       " 'status': 'High-confidence extraction',\n",
       " 'notes': [],\n",
       " 'base_score': 118,\n",
       " 'penalties': 0}"
      ]
     },
     "execution_count": 2,
     "metadata": {},
     "output_type": "execute_result"
    }
   ],
   "source": [
    "with open('updated_entities_relations_call1.json', 'r') as f:\n",
    "    extracted_data = json.load(f)\n",
    "\n",
    "# # Get the quality score\n",
    "quality_report = score_extraction_quality(extracted_data)\n",
    "quality_report"
   ]
  },
  {
   "cell_type": "code",
   "execution_count": 3,
   "id": "39cac061",
   "metadata": {},
   "outputs": [
    {
     "data": {
      "text/plain": [
       "{'final_score': 128,\n",
       " 'status': 'High-confidence extraction',\n",
       " 'notes': [],\n",
       " 'base_score': 128,\n",
       " 'penalties': 0}"
      ]
     },
     "execution_count": 3,
     "metadata": {},
     "output_type": "execute_result"
    }
   ],
   "source": [
    "with open('updated_entities_relations_call2.json', 'r') as f:\n",
    "    extracted_data = json.load(f)\n",
    "\n",
    "# # Get the quality score\n",
    "quality_report = score_extraction_quality(extracted_data)\n",
    "quality_report"
   ]
  },
  {
   "cell_type": "code",
   "execution_count": 6,
   "id": "d5ec029d",
   "metadata": {},
   "outputs": [
    {
     "data": {
      "text/plain": [
       "{'final_score': 117,\n",
       " 'status': 'High-confidence extraction',\n",
       " 'notes': [],\n",
       " 'base_score': 117,\n",
       " 'penalties': 0}"
      ]
     },
     "execution_count": 6,
     "metadata": {},
     "output_type": "execute_result"
    }
   ],
   "source": [
    "with open('updated_entities_relations_call3.json', 'r') as f:\n",
    "    extracted_data = json.load(f)\n",
    "\n",
    "# # Get the quality score\n",
    "quality_report = score_extraction_quality(extracted_data)\n",
    "quality_report"
   ]
  },
  {
   "cell_type": "code",
   "execution_count": 7,
   "id": "9008be8b",
   "metadata": {},
   "outputs": [
    {
     "data": {
      "text/plain": [
       "{'final_score': 72,\n",
       " 'status': 'Review recommended',\n",
       " 'notes': ['FAIL: Decision Maker found, but contact_details are missing.'],\n",
       " 'base_score': 82,\n",
       " 'penalties': -10}"
      ]
     },
     "execution_count": 7,
     "metadata": {},
     "output_type": "execute_result"
    }
   ],
   "source": [
    "with open('updated_entities_relations_call4.json', 'r') as f:\n",
    "    extracted_data = json.load(f)\n",
    "\n",
    "# # Get the quality score\n",
    "quality_report = score_extraction_quality(extracted_data)\n",
    "quality_report"
   ]
  },
  {
   "cell_type": "code",
   "execution_count": null,
   "id": "b129665b",
   "metadata": {},
   "outputs": [],
   "source": []
  }
 ],
 "metadata": {
  "kernelspec": {
   "display_name": "Python 3",
   "language": "python",
   "name": "python3"
  },
  "language_info": {
   "codemirror_mode": {
    "name": "ipython",
    "version": 3
   },
   "file_extension": ".py",
   "mimetype": "text/x-python",
   "name": "python",
   "nbconvert_exporter": "python",
   "pygments_lexer": "ipython3",
   "version": "3.12.5"
  }
 },
 "nbformat": 4,
 "nbformat_minor": 5
}
